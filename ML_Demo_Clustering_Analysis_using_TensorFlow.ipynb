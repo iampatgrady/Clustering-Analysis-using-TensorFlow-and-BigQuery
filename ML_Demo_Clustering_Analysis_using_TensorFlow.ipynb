{
  "nbformat": 4,
  "nbformat_minor": 0,
  "metadata": {
    "colab": {
      "name": "ML Demo: Clustering Analysis using TensorFlow",
      "version": "0.3.2",
      "provenance": [],
      "collapsed_sections": []
    }
  },
  "cells": [
    {
      "cell_type": "markdown",
      "metadata": {
        "id": "view-in-github",
        "colab_type": "text"
      },
      "source": [
        "[View in Colaboratory](https://colab.research.google.com/github/iampatgrady/Clustering-Analysis-using-TensorFlow-and-BigQuery/blob/master/ML_Demo_Clustering_Analysis_using_TensorFlow.ipynb)"
      ]
    },
    {
      "metadata": {
        "id": "gRVIQaE4Tp8Q",
        "colab_type": "code",
        "colab": {}
      },
      "cell_type": "code",
      "source": [
        "import pandas as pd\n",
        "import numpy as np\n",
        "import tensorflow as tf\n",
        "tf.logging.set_verbosity(tf.logging.ERROR)\n",
        "from sklearn.preprocessing import StandardScaler   \n",
        "import urllib2\n",
        "import matplotlib.pyplot as plt\n",
        "import seaborn as sns"
      ],
      "execution_count": 0,
      "outputs": []
    },
    {
      "metadata": {
        "id": "fVs1cBEzTwZe",
        "colab_type": "code",
        "colab": {}
      },
      "cell_type": "code",
      "source": [
        "#@title Enter your BigQuery project ID { run: \"auto\", display-mode: \"form\" }\n",
        "project = \"<your project id>\" #@param {type:\"string\"}\n",
        "target = \"bigquery-public-data.google_analytics_sample.ga_sessions_*\" #@param {type:\"string\"}\n",
        "start = \"2017-07-01\" #@param {type:\"date\"}\n",
        "end = \"2017-08-01\" #@param {type:\"date\"}\n"
      ],
      "execution_count": 0,
      "outputs": []
    },
    {
      "metadata": {
        "id": "LRjt2IQ1adXN",
        "colab_type": "text"
      },
      "cell_type": "markdown",
      "source": [
        "[Clustering SQL Code](https://storage.googleapis.com/pats-test/sql/bigquery_google_merchandise_clustering.sql)"
      ]
    },
    {
      "metadata": {
        "id": "G51LfMYvTssP",
        "colab_type": "code",
        "colab": {
          "base_uri": "https://localhost:8080/",
          "height": 241
        },
        "outputId": "6881d492-0e4b-4db3-f6a4-e30d48fbb352"
      },
      "cell_type": "code",
      "source": [
        "sql_query = urllib2 \\\n",
        "  .urlopen(\"https://storage.googleapis.com/pats-test/sql/bigquery_google_merchandise_clustering.sql\") \\\n",
        "  .read().format(target,start.replace(\"-\",\"\"),end.replace(\"-\",\"\"))\n",
        "\n",
        "ga_data = pd.io.gbq.read_gbq(sql_query,project_id=project,dialect='standard')\n",
        "\n",
        "print ga_data.shape\n",
        "ga_data.sample(5)"
      ],
      "execution_count": 21,
      "outputs": [
        {
          "output_type": "stream",
          "text": [
            "(573463, 20)\n"
          ],
          "name": "stdout"
        },
        {
          "output_type": "execute_result",
          "data": {
            "text/html": [
              "<div>\n",
              "<style scoped>\n",
              "    .dataframe tbody tr th:only-of-type {\n",
              "        vertical-align: middle;\n",
              "    }\n",
              "\n",
              "    .dataframe tbody tr th {\n",
              "        vertical-align: top;\n",
              "    }\n",
              "\n",
              "    .dataframe thead th {\n",
              "        text-align: right;\n",
              "    }\n",
              "</style>\n",
              "<table border=\"1\" class=\"dataframe\">\n",
              "  <thead>\n",
              "    <tr style=\"text-align: right;\">\n",
              "      <th></th>\n",
              "      <th>fullVisitorId</th>\n",
              "      <th>sessions</th>\n",
              "      <th>timeOnSite</th>\n",
              "      <th>pageviews</th>\n",
              "      <th>gaHits</th>\n",
              "      <th>transactions</th>\n",
              "      <th>revenue</th>\n",
              "      <th>sessionQuality</th>\n",
              "      <th>basketViews</th>\n",
              "      <th>homeViews</th>\n",
              "      <th>signinView</th>\n",
              "      <th>storeView</th>\n",
              "      <th>ordercompletedViews</th>\n",
              "      <th>apparelViews</th>\n",
              "      <th>shopbybrandViews</th>\n",
              "      <th>nestViews</th>\n",
              "      <th>accessoryViews</th>\n",
              "      <th>bagViews</th>\n",
              "      <th>officeViews</th>\n",
              "      <th>drinkwareViews</th>\n",
              "    </tr>\n",
              "  </thead>\n",
              "  <tbody>\n",
              "    <tr>\n",
              "      <th>393299</th>\n",
              "      <td>8722340407073237841</td>\n",
              "      <td>1</td>\n",
              "      <td>0.0</td>\n",
              "      <td>1.0</td>\n",
              "      <td>1.0</td>\n",
              "      <td>0.0</td>\n",
              "      <td>0.0</td>\n",
              "      <td>0.0</td>\n",
              "      <td>0.0</td>\n",
              "      <td>1.0</td>\n",
              "      <td>0.0</td>\n",
              "      <td>0.0</td>\n",
              "      <td>0.0</td>\n",
              "      <td>0.0</td>\n",
              "      <td>0.0</td>\n",
              "      <td>0.0</td>\n",
              "      <td>0.0</td>\n",
              "      <td>0.0</td>\n",
              "      <td>0.0</td>\n",
              "      <td>0.0</td>\n",
              "    </tr>\n",
              "    <tr>\n",
              "      <th>473363</th>\n",
              "      <td>0329128968086399249</td>\n",
              "      <td>1</td>\n",
              "      <td>0.0</td>\n",
              "      <td>1.0</td>\n",
              "      <td>1.0</td>\n",
              "      <td>0.0</td>\n",
              "      <td>0.0</td>\n",
              "      <td>0.0</td>\n",
              "      <td>0.0</td>\n",
              "      <td>1.0</td>\n",
              "      <td>0.0</td>\n",
              "      <td>0.0</td>\n",
              "      <td>0.0</td>\n",
              "      <td>0.0</td>\n",
              "      <td>0.0</td>\n",
              "      <td>0.0</td>\n",
              "      <td>0.0</td>\n",
              "      <td>0.0</td>\n",
              "      <td>0.0</td>\n",
              "      <td>0.0</td>\n",
              "    </tr>\n",
              "    <tr>\n",
              "      <th>370637</th>\n",
              "      <td>5188241849816652526</td>\n",
              "      <td>1</td>\n",
              "      <td>0.0</td>\n",
              "      <td>1.0</td>\n",
              "      <td>1.0</td>\n",
              "      <td>0.0</td>\n",
              "      <td>0.0</td>\n",
              "      <td>0.0</td>\n",
              "      <td>0.0</td>\n",
              "      <td>1.0</td>\n",
              "      <td>0.0</td>\n",
              "      <td>0.0</td>\n",
              "      <td>0.0</td>\n",
              "      <td>0.0</td>\n",
              "      <td>0.0</td>\n",
              "      <td>0.0</td>\n",
              "      <td>0.0</td>\n",
              "      <td>0.0</td>\n",
              "      <td>0.0</td>\n",
              "      <td>0.0</td>\n",
              "    </tr>\n",
              "    <tr>\n",
              "      <th>385341</th>\n",
              "      <td>9050910859081541475</td>\n",
              "      <td>1</td>\n",
              "      <td>0.0</td>\n",
              "      <td>1.0</td>\n",
              "      <td>1.0</td>\n",
              "      <td>0.0</td>\n",
              "      <td>0.0</td>\n",
              "      <td>0.0</td>\n",
              "      <td>0.0</td>\n",
              "      <td>1.0</td>\n",
              "      <td>0.0</td>\n",
              "      <td>0.0</td>\n",
              "      <td>0.0</td>\n",
              "      <td>0.0</td>\n",
              "      <td>0.0</td>\n",
              "      <td>0.0</td>\n",
              "      <td>0.0</td>\n",
              "      <td>0.0</td>\n",
              "      <td>0.0</td>\n",
              "      <td>0.0</td>\n",
              "    </tr>\n",
              "    <tr>\n",
              "      <th>164862</th>\n",
              "      <td>60661209431402778</td>\n",
              "      <td>1</td>\n",
              "      <td>65.0</td>\n",
              "      <td>4.0</td>\n",
              "      <td>4.0</td>\n",
              "      <td>0.0</td>\n",
              "      <td>0.0</td>\n",
              "      <td>0.0</td>\n",
              "      <td>0.0</td>\n",
              "      <td>2.0</td>\n",
              "      <td>0.0</td>\n",
              "      <td>0.0</td>\n",
              "      <td>0.0</td>\n",
              "      <td>0.0</td>\n",
              "      <td>0.0</td>\n",
              "      <td>0.0</td>\n",
              "      <td>0.0</td>\n",
              "      <td>2.0</td>\n",
              "      <td>0.0</td>\n",
              "      <td>0.0</td>\n",
              "    </tr>\n",
              "  </tbody>\n",
              "</table>\n",
              "</div>"
            ],
            "text/plain": [
              "              fullVisitorId  sessions  timeOnSite  pageviews  gaHits  \\\n",
              "393299  8722340407073237841         1         0.0        1.0     1.0   \n",
              "473363  0329128968086399249         1         0.0        1.0     1.0   \n",
              "370637  5188241849816652526         1         0.0        1.0     1.0   \n",
              "385341  9050910859081541475         1         0.0        1.0     1.0   \n",
              "164862    60661209431402778         1        65.0        4.0     4.0   \n",
              "\n",
              "        transactions  revenue  sessionQuality  basketViews  homeViews  \\\n",
              "393299           0.0      0.0             0.0          0.0        1.0   \n",
              "473363           0.0      0.0             0.0          0.0        1.0   \n",
              "370637           0.0      0.0             0.0          0.0        1.0   \n",
              "385341           0.0      0.0             0.0          0.0        1.0   \n",
              "164862           0.0      0.0             0.0          0.0        2.0   \n",
              "\n",
              "        signinView  storeView  ordercompletedViews  apparelViews  \\\n",
              "393299         0.0        0.0                  0.0           0.0   \n",
              "473363         0.0        0.0                  0.0           0.0   \n",
              "370637         0.0        0.0                  0.0           0.0   \n",
              "385341         0.0        0.0                  0.0           0.0   \n",
              "164862         0.0        0.0                  0.0           0.0   \n",
              "\n",
              "        shopbybrandViews  nestViews  accessoryViews  bagViews  officeViews  \\\n",
              "393299               0.0        0.0             0.0       0.0          0.0   \n",
              "473363               0.0        0.0             0.0       0.0          0.0   \n",
              "370637               0.0        0.0             0.0       0.0          0.0   \n",
              "385341               0.0        0.0             0.0       0.0          0.0   \n",
              "164862               0.0        0.0             0.0       2.0          0.0   \n",
              "\n",
              "        drinkwareViews  \n",
              "393299             0.0  \n",
              "473363             0.0  \n",
              "370637             0.0  \n",
              "385341             0.0  \n",
              "164862             0.0  "
            ]
          },
          "metadata": {
            "tags": []
          },
          "execution_count": 21
        }
      ]
    },
    {
      "metadata": {
        "id": "2HbiKisoaoUt",
        "colab_type": "code",
        "colab": {}
      },
      "cell_type": "code",
      "source": [
        "def input_fn():\n",
        "    return tf.constant(np_norm_data, tf.float32, np_norm_data.shape), None\n",
        "\n",
        "!rm -rf models\n",
        "!mkdir models\n",
        "data = ga_data.drop('fullVisitorId',axis=1).copy()  # do not shuffle data from this point on\n",
        "std_scaler = StandardScaler()\n",
        "np_norm_data = std_scaler.fit_transform(data)\n",
        "columns = data.columns\n",
        "k=10"
      ],
      "execution_count": 0,
      "outputs": []
    },
    {
      "metadata": {
        "id": "x4hROL7db9Yw",
        "colab_type": "code",
        "colab": {}
      },
      "cell_type": "code",
      "source": [
        "kmeans = tf.contrib.learn.KMeansClustering( \n",
        "    num_clusters=k, \n",
        "    relative_tolerance=0.001,\n",
        "    model_dir='models',\n",
        "    initial_clusters='kmeans_plus_plus',\n",
        ")\n",
        "\n",
        "kmeans.fit(input_fn=input_fn)\n",
        "assignments = list(kmeans.predict_cluster_idx(input_fn=input_fn))"
      ],
      "execution_count": 0,
      "outputs": []
    },
    {
      "metadata": {
        "id": "m9I80LJQadkW",
        "colab_type": "code",
        "colab": {
          "base_uri": "https://localhost:8080/",
          "height": 425
        },
        "outputId": "e953e47c-f952-47a3-c4cf-a9e79c719449"
      },
      "cell_type": "code",
      "source": [
        "clusters = std_scaler.inverse_transform(kmeans.clusters())\n",
        "\n",
        "cluster_metrics_pd = pd.DataFrame(clusters, columns=columns)\n",
        "cluster_metrics_pd['total_users'] = pd.get_dummies(assignments).agg(\"sum\")\n",
        "\n",
        "assign_output = pd.DataFrame()\n",
        "assign_output['fullVisitorId'] = ga_data.fullVisitorId\n",
        "assign_output[\"class\"] = assignments\n",
        "assign_output = assign_output.merge(ga_data, on='fullVisitorId')\n",
        "\n",
        "print assign_output.shape\n",
        "assign_output.sample(10)"
      ],
      "execution_count": 24,
      "outputs": [
        {
          "output_type": "stream",
          "text": [
            "(573463, 21)\n"
          ],
          "name": "stdout"
        },
        {
          "output_type": "execute_result",
          "data": {
            "text/html": [
              "<div>\n",
              "<style scoped>\n",
              "    .dataframe tbody tr th:only-of-type {\n",
              "        vertical-align: middle;\n",
              "    }\n",
              "\n",
              "    .dataframe tbody tr th {\n",
              "        vertical-align: top;\n",
              "    }\n",
              "\n",
              "    .dataframe thead th {\n",
              "        text-align: right;\n",
              "    }\n",
              "</style>\n",
              "<table border=\"1\" class=\"dataframe\">\n",
              "  <thead>\n",
              "    <tr style=\"text-align: right;\">\n",
              "      <th></th>\n",
              "      <th>fullVisitorId</th>\n",
              "      <th>class</th>\n",
              "      <th>sessions</th>\n",
              "      <th>timeOnSite</th>\n",
              "      <th>pageviews</th>\n",
              "      <th>gaHits</th>\n",
              "      <th>transactions</th>\n",
              "      <th>revenue</th>\n",
              "      <th>sessionQuality</th>\n",
              "      <th>basketViews</th>\n",
              "      <th>...</th>\n",
              "      <th>signinView</th>\n",
              "      <th>storeView</th>\n",
              "      <th>ordercompletedViews</th>\n",
              "      <th>apparelViews</th>\n",
              "      <th>shopbybrandViews</th>\n",
              "      <th>nestViews</th>\n",
              "      <th>accessoryViews</th>\n",
              "      <th>bagViews</th>\n",
              "      <th>officeViews</th>\n",
              "      <th>drinkwareViews</th>\n",
              "    </tr>\n",
              "  </thead>\n",
              "  <tbody>\n",
              "    <tr>\n",
              "      <th>568572</th>\n",
              "      <td>6384329866495516492</td>\n",
              "      <td>8</td>\n",
              "      <td>25</td>\n",
              "      <td>318.000000</td>\n",
              "      <td>10.800000</td>\n",
              "      <td>13.200000</td>\n",
              "      <td>0.4</td>\n",
              "      <td>17.566</td>\n",
              "      <td>0.0</td>\n",
              "      <td>1.400000</td>\n",
              "      <td>...</td>\n",
              "      <td>0.800000</td>\n",
              "      <td>0.200000</td>\n",
              "      <td>0.8</td>\n",
              "      <td>3.200000</td>\n",
              "      <td>0.0</td>\n",
              "      <td>0.0</td>\n",
              "      <td>0.0</td>\n",
              "      <td>0.000000</td>\n",
              "      <td>0.0</td>\n",
              "      <td>0.000000</td>\n",
              "    </tr>\n",
              "    <tr>\n",
              "      <th>443342</th>\n",
              "      <td>6460693324693641749</td>\n",
              "      <td>0</td>\n",
              "      <td>1</td>\n",
              "      <td>0.000000</td>\n",
              "      <td>1.000000</td>\n",
              "      <td>1.000000</td>\n",
              "      <td>0.0</td>\n",
              "      <td>0.000</td>\n",
              "      <td>0.0</td>\n",
              "      <td>0.000000</td>\n",
              "      <td>...</td>\n",
              "      <td>0.000000</td>\n",
              "      <td>0.000000</td>\n",
              "      <td>0.0</td>\n",
              "      <td>0.000000</td>\n",
              "      <td>0.0</td>\n",
              "      <td>0.0</td>\n",
              "      <td>0.0</td>\n",
              "      <td>0.000000</td>\n",
              "      <td>0.0</td>\n",
              "      <td>0.000000</td>\n",
              "    </tr>\n",
              "    <tr>\n",
              "      <th>25342</th>\n",
              "      <td>65808488211502786</td>\n",
              "      <td>8</td>\n",
              "      <td>1</td>\n",
              "      <td>84.000000</td>\n",
              "      <td>5.000000</td>\n",
              "      <td>5.000000</td>\n",
              "      <td>0.0</td>\n",
              "      <td>0.000</td>\n",
              "      <td>0.0</td>\n",
              "      <td>0.000000</td>\n",
              "      <td>...</td>\n",
              "      <td>4.000000</td>\n",
              "      <td>0.000000</td>\n",
              "      <td>0.0</td>\n",
              "      <td>0.000000</td>\n",
              "      <td>1.0</td>\n",
              "      <td>0.0</td>\n",
              "      <td>0.0</td>\n",
              "      <td>0.000000</td>\n",
              "      <td>0.0</td>\n",
              "      <td>0.000000</td>\n",
              "    </tr>\n",
              "    <tr>\n",
              "      <th>300357</th>\n",
              "      <td>9559056306903724020</td>\n",
              "      <td>6</td>\n",
              "      <td>1</td>\n",
              "      <td>1300.000000</td>\n",
              "      <td>5.000000</td>\n",
              "      <td>5.000000</td>\n",
              "      <td>0.0</td>\n",
              "      <td>0.000</td>\n",
              "      <td>0.0</td>\n",
              "      <td>0.000000</td>\n",
              "      <td>...</td>\n",
              "      <td>0.000000</td>\n",
              "      <td>0.000000</td>\n",
              "      <td>0.0</td>\n",
              "      <td>3.000000</td>\n",
              "      <td>0.0</td>\n",
              "      <td>0.0</td>\n",
              "      <td>0.0</td>\n",
              "      <td>2.000000</td>\n",
              "      <td>0.0</td>\n",
              "      <td>0.000000</td>\n",
              "    </tr>\n",
              "    <tr>\n",
              "      <th>544962</th>\n",
              "      <td>1430408383608658111</td>\n",
              "      <td>6</td>\n",
              "      <td>9</td>\n",
              "      <td>321.333333</td>\n",
              "      <td>7.666667</td>\n",
              "      <td>9.333333</td>\n",
              "      <td>0.0</td>\n",
              "      <td>0.000</td>\n",
              "      <td>0.0</td>\n",
              "      <td>0.666667</td>\n",
              "      <td>...</td>\n",
              "      <td>0.333333</td>\n",
              "      <td>0.666667</td>\n",
              "      <td>0.0</td>\n",
              "      <td>0.666667</td>\n",
              "      <td>0.0</td>\n",
              "      <td>0.0</td>\n",
              "      <td>1.0</td>\n",
              "      <td>1.333333</td>\n",
              "      <td>0.0</td>\n",
              "      <td>0.333333</td>\n",
              "    </tr>\n",
              "    <tr>\n",
              "      <th>26137</th>\n",
              "      <td>1053935819146618532</td>\n",
              "      <td>0</td>\n",
              "      <td>1</td>\n",
              "      <td>42.000000</td>\n",
              "      <td>6.000000</td>\n",
              "      <td>6.000000</td>\n",
              "      <td>0.0</td>\n",
              "      <td>0.000</td>\n",
              "      <td>0.0</td>\n",
              "      <td>0.000000</td>\n",
              "      <td>...</td>\n",
              "      <td>1.000000</td>\n",
              "      <td>1.000000</td>\n",
              "      <td>0.0</td>\n",
              "      <td>0.000000</td>\n",
              "      <td>0.0</td>\n",
              "      <td>0.0</td>\n",
              "      <td>0.0</td>\n",
              "      <td>0.000000</td>\n",
              "      <td>0.0</td>\n",
              "      <td>0.000000</td>\n",
              "    </tr>\n",
              "    <tr>\n",
              "      <th>23013</th>\n",
              "      <td>8743848518710163048</td>\n",
              "      <td>0</td>\n",
              "      <td>1</td>\n",
              "      <td>49.000000</td>\n",
              "      <td>5.000000</td>\n",
              "      <td>5.000000</td>\n",
              "      <td>0.0</td>\n",
              "      <td>0.000</td>\n",
              "      <td>0.0</td>\n",
              "      <td>0.000000</td>\n",
              "      <td>...</td>\n",
              "      <td>1.000000</td>\n",
              "      <td>0.000000</td>\n",
              "      <td>0.0</td>\n",
              "      <td>0.000000</td>\n",
              "      <td>0.0</td>\n",
              "      <td>0.0</td>\n",
              "      <td>0.0</td>\n",
              "      <td>0.000000</td>\n",
              "      <td>0.0</td>\n",
              "      <td>0.000000</td>\n",
              "    </tr>\n",
              "    <tr>\n",
              "      <th>205285</th>\n",
              "      <td>614048480179691465</td>\n",
              "      <td>6</td>\n",
              "      <td>4</td>\n",
              "      <td>438.000000</td>\n",
              "      <td>22.000000</td>\n",
              "      <td>28.500000</td>\n",
              "      <td>0.0</td>\n",
              "      <td>0.000</td>\n",
              "      <td>0.0</td>\n",
              "      <td>0.000000</td>\n",
              "      <td>...</td>\n",
              "      <td>0.000000</td>\n",
              "      <td>0.000000</td>\n",
              "      <td>0.0</td>\n",
              "      <td>13.000000</td>\n",
              "      <td>0.5</td>\n",
              "      <td>0.0</td>\n",
              "      <td>0.0</td>\n",
              "      <td>0.500000</td>\n",
              "      <td>0.0</td>\n",
              "      <td>0.000000</td>\n",
              "    </tr>\n",
              "    <tr>\n",
              "      <th>401305</th>\n",
              "      <td>8678801429021057166</td>\n",
              "      <td>0</td>\n",
              "      <td>1</td>\n",
              "      <td>0.000000</td>\n",
              "      <td>1.000000</td>\n",
              "      <td>1.000000</td>\n",
              "      <td>0.0</td>\n",
              "      <td>0.000</td>\n",
              "      <td>0.0</td>\n",
              "      <td>0.000000</td>\n",
              "      <td>...</td>\n",
              "      <td>0.000000</td>\n",
              "      <td>0.000000</td>\n",
              "      <td>0.0</td>\n",
              "      <td>0.000000</td>\n",
              "      <td>0.0</td>\n",
              "      <td>0.0</td>\n",
              "      <td>0.0</td>\n",
              "      <td>0.000000</td>\n",
              "      <td>0.0</td>\n",
              "      <td>0.000000</td>\n",
              "    </tr>\n",
              "    <tr>\n",
              "      <th>454964</th>\n",
              "      <td>7420037597401029840</td>\n",
              "      <td>0</td>\n",
              "      <td>1</td>\n",
              "      <td>0.000000</td>\n",
              "      <td>1.000000</td>\n",
              "      <td>1.000000</td>\n",
              "      <td>0.0</td>\n",
              "      <td>0.000</td>\n",
              "      <td>0.0</td>\n",
              "      <td>0.000000</td>\n",
              "      <td>...</td>\n",
              "      <td>0.000000</td>\n",
              "      <td>0.000000</td>\n",
              "      <td>0.0</td>\n",
              "      <td>0.000000</td>\n",
              "      <td>0.0</td>\n",
              "      <td>0.0</td>\n",
              "      <td>0.0</td>\n",
              "      <td>0.000000</td>\n",
              "      <td>0.0</td>\n",
              "      <td>0.000000</td>\n",
              "    </tr>\n",
              "  </tbody>\n",
              "</table>\n",
              "<p>10 rows × 21 columns</p>\n",
              "</div>"
            ],
            "text/plain": [
              "              fullVisitorId  class  sessions   timeOnSite  pageviews  \\\n",
              "568572  6384329866495516492      8        25   318.000000  10.800000   \n",
              "443342  6460693324693641749      0         1     0.000000   1.000000   \n",
              "25342     65808488211502786      8         1    84.000000   5.000000   \n",
              "300357  9559056306903724020      6         1  1300.000000   5.000000   \n",
              "544962  1430408383608658111      6         9   321.333333   7.666667   \n",
              "26137   1053935819146618532      0         1    42.000000   6.000000   \n",
              "23013   8743848518710163048      0         1    49.000000   5.000000   \n",
              "205285   614048480179691465      6         4   438.000000  22.000000   \n",
              "401305  8678801429021057166      0         1     0.000000   1.000000   \n",
              "454964  7420037597401029840      0         1     0.000000   1.000000   \n",
              "\n",
              "           gaHits  transactions  revenue  sessionQuality  basketViews  \\\n",
              "568572  13.200000           0.4   17.566             0.0     1.400000   \n",
              "443342   1.000000           0.0    0.000             0.0     0.000000   \n",
              "25342    5.000000           0.0    0.000             0.0     0.000000   \n",
              "300357   5.000000           0.0    0.000             0.0     0.000000   \n",
              "544962   9.333333           0.0    0.000             0.0     0.666667   \n",
              "26137    6.000000           0.0    0.000             0.0     0.000000   \n",
              "23013    5.000000           0.0    0.000             0.0     0.000000   \n",
              "205285  28.500000           0.0    0.000             0.0     0.000000   \n",
              "401305   1.000000           0.0    0.000             0.0     0.000000   \n",
              "454964   1.000000           0.0    0.000             0.0     0.000000   \n",
              "\n",
              "             ...        signinView  storeView  ordercompletedViews  \\\n",
              "568572       ...          0.800000   0.200000                  0.8   \n",
              "443342       ...          0.000000   0.000000                  0.0   \n",
              "25342        ...          4.000000   0.000000                  0.0   \n",
              "300357       ...          0.000000   0.000000                  0.0   \n",
              "544962       ...          0.333333   0.666667                  0.0   \n",
              "26137        ...          1.000000   1.000000                  0.0   \n",
              "23013        ...          1.000000   0.000000                  0.0   \n",
              "205285       ...          0.000000   0.000000                  0.0   \n",
              "401305       ...          0.000000   0.000000                  0.0   \n",
              "454964       ...          0.000000   0.000000                  0.0   \n",
              "\n",
              "        apparelViews  shopbybrandViews  nestViews  accessoryViews  bagViews  \\\n",
              "568572      3.200000               0.0        0.0             0.0  0.000000   \n",
              "443342      0.000000               0.0        0.0             0.0  0.000000   \n",
              "25342       0.000000               1.0        0.0             0.0  0.000000   \n",
              "300357      3.000000               0.0        0.0             0.0  2.000000   \n",
              "544962      0.666667               0.0        0.0             1.0  1.333333   \n",
              "26137       0.000000               0.0        0.0             0.0  0.000000   \n",
              "23013       0.000000               0.0        0.0             0.0  0.000000   \n",
              "205285     13.000000               0.5        0.0             0.0  0.500000   \n",
              "401305      0.000000               0.0        0.0             0.0  0.000000   \n",
              "454964      0.000000               0.0        0.0             0.0  0.000000   \n",
              "\n",
              "        officeViews  drinkwareViews  \n",
              "568572          0.0        0.000000  \n",
              "443342          0.0        0.000000  \n",
              "25342           0.0        0.000000  \n",
              "300357          0.0        0.000000  \n",
              "544962          0.0        0.333333  \n",
              "26137           0.0        0.000000  \n",
              "23013           0.0        0.000000  \n",
              "205285          0.0        0.000000  \n",
              "401305          0.0        0.000000  \n",
              "454964          0.0        0.000000  \n",
              "\n",
              "[10 rows x 21 columns]"
            ]
          },
          "metadata": {
            "tags": []
          },
          "execution_count": 24
        }
      ]
    },
    {
      "metadata": {
        "id": "nPIKF5ScdHSy",
        "colab_type": "code",
        "colab": {
          "base_uri": "https://localhost:8080/",
          "height": 357
        },
        "outputId": "ce22d664-babb-48d1-ceeb-ce22cc76521d"
      },
      "cell_type": "code",
      "source": [
        "cp = assign_output.groupby(\"class\")['fullVisitorId'].agg(\"count\") \\\n",
        "  .reset_index(drop=True).sort_values(ascending=False)\n",
        "cp = pd.DataFrame({'cluster_id':cp.index, 'count':cp.values})\n",
        "cp.plot(kind=\"bar\",x=\"cluster_id\")\n",
        "plt.show()"
      ],
      "execution_count": 25,
      "outputs": [
        {
          "output_type": "display_data",
          "data": {
            "image/png": "[encoded data removed]",
            "text/plain": [
              "<matplotlib.figure.Figure at 0x7f91df781a90>"
            ]
          },
          "metadata": {
            "tags": []
          }
        }
      ]
    },
    {
      "metadata": {
        "id": "p0EwFeC5PDSw",
        "colab_type": "text"
      },
      "cell_type": "markdown",
      "source": [
        "# Using Labeled Data to Train ML Model"
      ]
    },
    {
      "metadata": {
        "id": "UF9xAWG4riln",
        "colab_type": "code",
        "colab": {}
      },
      "cell_type": "code",
      "source": [
        "# create simple weight to determine the \"high_value_target\"\n",
        "cluster_metrics_pd[\"weighted_score\"] = (\n",
        "    cluster_metrics_pd.revenue * \n",
        "    cluster_metrics_pd.sessions * \n",
        "    cluster_metrics_pd.total_users\n",
        ").sort_values(ascending=False)"
      ],
      "execution_count": 0,
      "outputs": []
    },
    {
      "metadata": {
        "id": "Vs_F9o8t2Cez",
        "colab_type": "code",
        "colab": {
          "base_uri": "https://localhost:8080/",
          "height": 34
        },
        "outputId": "e392f9da-6c47-4ef8-abd9-6a1f1ca84489"
      },
      "cell_type": "code",
      "source": [
        "# compress the labels to binary group\n",
        "high_value_target = cluster_metrics_pd.weighted_score.idxmax()\n",
        "print \"High Value Target is Cluster Id: {}\".format(high_value_target)\n",
        "assign_output['class'] = assign_output['class'].astype(str)\n",
        "assign_output['class'] = assign_output['class'].str.replace(r'[^' + str(high_value_target) + ']', \"0\")"
      ],
      "execution_count": 32,
      "outputs": [
        {
          "output_type": "stream",
          "text": [
            "High Value Target is Cluster Id: 8\n"
          ],
          "name": "stdout"
        }
      ]
    },
    {
      "metadata": {
        "id": "cCerNeIboyfJ",
        "colab_type": "code",
        "colab": {
          "base_uri": "https://localhost:8080/",
          "height": 85
        },
        "outputId": "5f301bf2-6aa6-4f33-b5da-5cd5b3fa21ae"
      },
      "cell_type": "code",
      "source": [
        "#Seperating dependent and independent variables. \n",
        "X = assign_output.iloc[:, 2:assign_output.shape[1]].values  #Note: Exclude Last column with all NaN values.\n",
        "y = assign_output.iloc[:, 1].values\n",
        "print X.shape, y.shape\n",
        "pd.Series(y).value_counts()"
      ],
      "execution_count": 33,
      "outputs": [
        {
          "output_type": "stream",
          "text": [
            "(573463, 19) (573463,)\n"
          ],
          "name": "stdout"
        },
        {
          "output_type": "execute_result",
          "data": {
            "text/plain": [
              "0    551829\n",
              "8     21634\n",
              "dtype: int64"
            ]
          },
          "metadata": {
            "tags": []
          },
          "execution_count": 33
        }
      ]
    },
    {
      "metadata": {
        "id": "tOC2Y4_2FdKg",
        "colab_type": "code",
        "colab": {
          "base_uri": "https://localhost:8080/",
          "height": 68
        },
        "outputId": "7701937c-7e33-442e-dcb1-10317d6fd24b"
      },
      "cell_type": "code",
      "source": [
        "#Encoding Categorical Data\n",
        "from sklearn.preprocessing import LabelEncoder\n",
        "labelencoder = LabelEncoder()\n",
        "\n",
        "y = labelencoder.fit_transform(y)\n",
        "pd.Series(y).value_counts()"
      ],
      "execution_count": 34,
      "outputs": [
        {
          "output_type": "execute_result",
          "data": {
            "text/plain": [
              "0    551829\n",
              "1     21634\n",
              "dtype: int64"
            ]
          },
          "metadata": {
            "tags": []
          },
          "execution_count": 34
        }
      ]
    },
    {
      "metadata": {
        "id": "N-MZKcZ3LFhA",
        "colab_type": "code",
        "colab": {}
      },
      "cell_type": "code",
      "source": [
        "#Splitting into Training set and Test set\n",
        "from sklearn.model_selection import train_test_split\n",
        "X_train, X_test, y_train, y_test = train_test_split(X, y, test_size = 0.2, random_state = 42)"
      ],
      "execution_count": 0,
      "outputs": []
    },
    {
      "metadata": {
        "id": "_aePbHmfLKJU",
        "colab_type": "code",
        "colab": {}
      },
      "cell_type": "code",
      "source": [
        "#Feature Scaling\n",
        "from sklearn.preprocessing import StandardScaler\n",
        "std = StandardScaler()\n",
        "X_train = std.fit_transform(X_train)\n",
        "X_test = std.fit_transform(X_test)"
      ],
      "execution_count": 0,
      "outputs": []
    },
    {
      "metadata": {
        "id": "UI9d65PZ9fry",
        "colab_type": "text"
      },
      "cell_type": "markdown",
      "source": [
        "# ANN"
      ]
    },
    {
      "metadata": {
        "id": "4NXuXJktLuTJ",
        "colab_type": "code",
        "colab": {}
      },
      "cell_type": "code",
      "source": [
        "# Importing the Keras libraries and packages\n",
        "import keras\n",
        "from keras.models import Sequential\n",
        "from keras.layers import Dense"
      ],
      "execution_count": 0,
      "outputs": []
    },
    {
      "metadata": {
        "id": "Z2K-DkZZLxfs",
        "colab_type": "code",
        "colab": {}
      },
      "cell_type": "code",
      "source": [
        "# Initialising the ANN\n",
        "classifier = Sequential()\n",
        "\n",
        "feat_len = X.shape[1]\n",
        "dense_units = int(feat_len/2)+1\n",
        "\n",
        "# Adding the input layer and the first hidden layer\n",
        "classifier.add(Dense(units = dense_units, kernel_initializer = 'uniform', activation = 'relu', input_dim = feat_len))\n",
        "\n",
        "# Adding the second hidden layer\n",
        "classifier.add(Dense(units = dense_units, kernel_initializer = 'uniform', activation = 'relu'))\n",
        "\n",
        "# Adding the output layer\n",
        "classifier.add(Dense(units = 1, kernel_initializer = 'uniform', activation = 'sigmoid'))\n",
        "\n",
        "# Compiling the ANN\n",
        "classifier.compile(optimizer = 'adam', loss = 'binary_crossentropy', metrics = ['accuracy'])"
      ],
      "execution_count": 0,
      "outputs": []
    },
    {
      "metadata": {
        "id": "wJ3Z7jPaM_I4",
        "colab_type": "code",
        "colab": {
          "base_uri": "https://localhost:8080/",
          "height": 374
        },
        "outputId": "158eae2a-2b7b-4370-f754-963284c1bb35"
      },
      "cell_type": "code",
      "source": [
        "# Fitting the ANN to the Training set\n",
        "classifier.fit(X_train, y_train, batch_size = 1000, epochs = 10)"
      ],
      "execution_count": 40,
      "outputs": [
        {
          "output_type": "stream",
          "text": [
            "Epoch 1/10\n",
            "458770/458770 [==============================] - 1s 3us/step - loss: 0.0245 - acc: 0.9930\n",
            "Epoch 2/10\n",
            "458770/458770 [==============================] - 1s 3us/step - loss: 0.0197 - acc: 0.9937\n",
            "Epoch 3/10\n",
            "458770/458770 [==============================] - 1s 3us/step - loss: 0.0168 - acc: 0.9942\n",
            "Epoch 4/10\n",
            "458770/458770 [==============================] - 1s 3us/step - loss: 0.0158 - acc: 0.9946\n",
            "Epoch 5/10\n",
            "458770/458770 [==============================] - 1s 3us/step - loss: 0.0151 - acc: 0.9949\n",
            "Epoch 6/10\n",
            "458770/458770 [==============================] - 1s 3us/step - loss: 0.0145 - acc: 0.9952\n",
            "Epoch 7/10\n",
            "458770/458770 [==============================] - 1s 3us/step - loss: 0.0138 - acc: 0.9954\n",
            "Epoch 8/10\n",
            "458770/458770 [==============================] - 1s 3us/step - loss: 0.0131 - acc: 0.9958\n"
          ],
          "name": "stdout"
        },
        {
          "output_type": "stream",
          "text": [
            "Epoch 9/10\n",
            "458770/458770 [==============================] - 1s 3us/step - loss: 0.0109 - acc: 0.9964\n",
            "Epoch 10/10\n",
            "458770/458770 [==============================] - 1s 3us/step - loss: 0.0092 - acc: 0.9967\n"
          ],
          "name": "stdout"
        },
        {
          "output_type": "execute_result",
          "data": {
            "text/plain": [
              "<keras.callbacks.History at 0x7f91c8e99810>"
            ]
          },
          "metadata": {
            "tags": []
          },
          "execution_count": 40
        }
      ]
    },
    {
      "metadata": {
        "id": "UeFiVvqLNBfq",
        "colab_type": "code",
        "colab": {}
      },
      "cell_type": "code",
      "source": [
        "# Predicting the Test set results\n",
        "y_pred = classifier.predict(X_test)\n",
        "y_pred = (y_pred > 0.5)\n",
        "\n",
        "# Making the Confusion Matrix\n",
        "from sklearn.metrics import confusion_matrix\n",
        "cm = confusion_matrix(y_test, y_pred)   "
      ],
      "execution_count": 0,
      "outputs": []
    },
    {
      "metadata": {
        "id": "g0V-WuMMvGHG",
        "colab_type": "code",
        "colab": {
          "base_uri": "https://localhost:8080/",
          "height": 68
        },
        "outputId": "763a91b0-f249-42f0-b2bf-bb010352e1f0"
      },
      "cell_type": "code",
      "source": [
        "pd.Series(y_test).value_counts()"
      ],
      "execution_count": 42,
      "outputs": [
        {
          "output_type": "execute_result",
          "data": {
            "text/plain": [
              "0    110316\n",
              "1      4377\n",
              "dtype: int64"
            ]
          },
          "metadata": {
            "tags": []
          },
          "execution_count": 42
        }
      ]
    },
    {
      "metadata": {
        "id": "kxvvFPP9NhNW",
        "colab_type": "text"
      },
      "cell_type": "markdown",
      "source": [
        "![alt text](https://rasbt.github.io/mlxtend/user_guide/evaluate/confusion_matrix_files/confusion_matrix_1.png)"
      ]
    },
    {
      "metadata": {
        "id": "gYKFtEP2Ncdy",
        "colab_type": "code",
        "colab": {
          "base_uri": "https://localhost:8080/",
          "height": 381
        },
        "outputId": "151d3421-3cc5-48f4-b2c4-f1ffab2ce20d"
      },
      "cell_type": "code",
      "source": [
        "print cm\n",
        "sns.heatmap(cm)\n",
        "plt.show()"
      ],
      "execution_count": 43,
      "outputs": [
        {
          "output_type": "stream",
          "text": [
            "[[110191    125]\n",
            " [   261   4116]]\n"
          ],
          "name": "stdout"
        },
        {
          "output_type": "display_data",
          "data": {
            "image/png": "[encoded data removed]",
            "text/plain": [
              "<matplotlib.figure.Figure at 0x7f91c2a54a50>"
            ]
          },
          "metadata": {
            "tags": []
          }
        }
      ]
    },
    {
      "metadata": {
        "id": "KYW3kgSMWCoK",
        "colab_type": "code",
        "colab": {}
      },
      "cell_type": "code",
      "source": [
        ""
      ],
      "execution_count": 0,
      "outputs": []
    }
  ]
}